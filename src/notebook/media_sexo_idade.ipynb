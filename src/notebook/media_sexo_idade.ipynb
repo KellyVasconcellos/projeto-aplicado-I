{
 "cells": [
  {
   "cell_type": "code",
   "execution_count": 6,
   "id": "5e7d4d05",
   "metadata": {},
   "outputs": [
    {
     "name": "stdout",
     "output_type": "stream",
     "text": [
      "c:\\Program Files\\Python312\\python.exe\n"
     ]
    }
   ],
   "source": [
    "import sys\n",
    "print(sys.executable)"
   ]
  },
  {
   "cell_type": "code",
   "execution_count": 7,
   "id": "24d18570",
   "metadata": {},
   "outputs": [],
   "source": [
    "import pandas as pd\n",
    "import matplotlib.pyplot as plt\n",
    "import seaborn as sns"
   ]
  },
  {
   "cell_type": "code",
   "execution_count": 8,
   "id": "0656d718",
   "metadata": {},
   "outputs": [],
   "source": [
    "# Carregar o dataset\n",
    "dataset = pd.read_csv('../../data/resultado.csv', sep=';', quotechar='\"', low_memory=False)"
   ]
  },
  {
   "cell_type": "code",
   "execution_count": 9,
   "id": "46e71cb7",
   "metadata": {},
   "outputs": [
    {
     "name": "stdout",
     "output_type": "stream",
     "text": [
      "Nomes das colunas no dataset:\n",
      "['sintomas', 'profissionalSaude', 'racaCor', 'outrosSintomas', 'outrasCondicoes', 'profissionalSeguranca', 'cbo', 'condicoes', 'sexo', 'estado', 'estadoIBGE', 'municipio', 'municipioIBGE', 'origem', 'estadoNotificacao', 'municipioNotificacao', 'municipioNotificacaoIBGE', 'evolucaoCaso', 'classificacaoFinal', 'codigoEstrategiaCovid', 'codigoBuscaAtivaAssintomatico', 'outroBuscaAtivaAssintomatico', 'codigoTriagemPopulacaoEspecifica', 'outroTriagemPopulacaoEspecifica', 'codigoLocalRealizacaoTestagem', 'outroLocalRealizacaoTestagem', 'codigoRecebeuVacina', 'codigoLaboratorioPrimeiraDose', 'codigoLaboratorioSegundaDose', 'lotePrimeiraDose', 'loteSegundaDose', 'codigoContemComunidadeTradicional', 'source_id', 'excluido', 'validado', 'codigoDosesVacina', 'estadoNotificacaoIBGE', 'totalTestesRealizados', 'dataNotificacao', 'dataInicioSintomas', 'dataEncerramento', 'dataPrimeiraDose', 'dataSegundaDose', 'codigoEstadoTeste1', 'codigoTipoTeste1', 'codigoFabricanteTeste1', 'codigoResultadoTeste1', 'codigoEstadoTeste2', 'codigoTipoTeste2', 'codigoFabricanteTeste2', 'codigoResultadoTeste2', 'codigoEstadoTeste3', 'codigoTipoTeste3', 'codigoFabricanteTeste3', 'codigoResultadoTeste3', 'codigoEstadoTeste4', 'codigoTipoTeste4', 'codigoFabricanteTeste4', 'codigoResultadoTeste4', 'dataColetaTeste1', 'dataColetaTeste2', 'dataColetaTeste3', 'dataColetaTeste4', 'idade']\n"
     ]
    }
   ],
   "source": [
    "# Exibir os nomes das colunas\n",
    "print(\"Nomes das colunas no dataset:\")\n",
    "print(dataset.columns.tolist())"
   ]
  },
  {
   "cell_type": "code",
   "execution_count": 10,
   "id": "d7a496eb",
   "metadata": {},
   "outputs": [],
   "source": [
    "# Limpar os valores da coluna 'estadoNotificacaoIBGE' (remover espaços e converter para maiúsculas)\n",
    "dataset['estadoNotificacaoIBGE'] = dataset['estadoNotificacaoIBGE'].str.strip().str.upper()"
   ]
  },
  {
   "cell_type": "code",
   "execution_count": 11,
   "id": "e06eb81c",
   "metadata": {},
   "outputs": [],
   "source": [
    "# Limpar os valores da coluna 'sexo' (remover espaços e converter para capitalizado)\n",
    "dataset['sexo'] = dataset['sexo'].str.strip().str.capitalize()"
   ]
  },
  {
   "cell_type": "code",
   "execution_count": 12,
   "id": "864b4cc3",
   "metadata": {},
   "outputs": [
    {
     "name": "stdout",
     "output_type": "stream",
     "text": [
      "Valores únicos na coluna 'sexo': ['Feminino' 'Masculino' 'Ba' 'Indefinido' 'Sc' nan]\n"
     ]
    }
   ],
   "source": [
    "# Exibir valores únicos de sexo para verificar se existem valores diferentes de Feminino e Masculino\n",
    "print(\"Valores únicos na coluna 'sexo':\", dataset['sexo'].unique())"
   ]
  },
  {
   "cell_type": "code",
   "execution_count": 13,
   "id": "ab352814",
   "metadata": {},
   "outputs": [],
   "source": [
    "# Filtrar os estados válidos e remover entradas inválidas\n",
    "estados_selecionados = ['PR', 'SC', 'PA', 'TO', 'SP', 'ES', 'GO', 'MS', 'BA', 'SE']\n",
    "dataset_filtrado = dataset[dataset['estadoNotificacaoIBGE'].isin(estados_selecionados)]"
   ]
  },
  {
   "cell_type": "code",
   "execution_count": 14,
   "id": "5123997c",
   "metadata": {},
   "outputs": [],
   "source": [
    "# Contar registros com idade NaN\n",
    "registros_sem_idade = dataset_filtrado['idade'].isna().sum()"
   ]
  },
  {
   "cell_type": "code",
   "execution_count": 15,
   "id": "c7a02f7c",
   "metadata": {},
   "outputs": [],
   "source": [
    "# Contar registros com valores inválidos na coluna 'sexo'\n",
    "registros_invalidos_sexo = dataset_filtrado[~dataset_filtrado['sexo'].isin(['Feminino', 'Masculino'])].shape[0]"
   ]
  },
  {
   "cell_type": "code",
   "execution_count": 16,
   "id": "143c93c0",
   "metadata": {},
   "outputs": [],
   "source": [
    "# Remover entradas onde 'idade' é NaN\n",
    "dataset_filtrado = dataset_filtrado[dataset_filtrado['idade'].notna()]"
   ]
  },
  {
   "cell_type": "code",
   "execution_count": 17,
   "id": "e44a6a33",
   "metadata": {},
   "outputs": [],
   "source": [
    "# Remover entradas com valores inválidos na coluna 'sexo'\n",
    "dataset_filtrado = dataset_filtrado[dataset_filtrado['sexo'].isin(['Feminino', 'Masculino'])]"
   ]
  },
  {
   "cell_type": "code",
   "execution_count": 18,
   "id": "fb9c41d1",
   "metadata": {},
   "outputs": [
    {
     "name": "stdout",
     "output_type": "stream",
     "text": [
      "\n",
      "Total de registros filtrados: 2005120\n",
      "Número de registros sem idade: 658748\n",
      "Número de registros inválidos na coluna 'sexo': 5\n",
      "\n",
      "Taxa de dados inválidos na coluna 'sexo': 0.00%\n",
      "\n",
      "Distribuição por Sexo em cada Estado:\n",
      "\n",
      "Estado: BA\n",
      "  - Percentual de Feminino: 56.4%\n",
      "  - Percentual de Masculino: 43.6%\n",
      "\n",
      "Estado: ES\n",
      "  - Percentual de Feminino: 49.7%\n",
      "  - Percentual de Masculino: 50.3%\n",
      "\n",
      "Estado: GO\n",
      "  - Percentual de Feminino: 59.6%\n",
      "  - Percentual de Masculino: 40.4%\n",
      "\n",
      "Estado: MS\n",
      "  - Percentual de Feminino: 62.2%\n",
      "  - Percentual de Masculino: 37.8%\n",
      "\n",
      "Estado: PA\n",
      "  - Percentual de Feminino: 58.3%\n",
      "  - Percentual de Masculino: 41.7%\n",
      "\n",
      "Estado: PR\n",
      "  - Percentual de Feminino: 59.9%\n",
      "  - Percentual de Masculino: 40.1%\n",
      "\n",
      "Estado: SC\n",
      "  - Percentual de Feminino: 57.6%\n",
      "  - Percentual de Masculino: 42.4%\n",
      "\n",
      "Estado: SE\n",
      "  - Percentual de Feminino: 56.9%\n",
      "  - Percentual de Masculino: 43.1%\n",
      "\n",
      "Estado: SP\n",
      "  - Percentual de Feminino: 59.0%\n",
      "  - Percentual de Masculino: 41.0%\n",
      "\n",
      "Estado: TO\n",
      "  - Percentual de Feminino: 64.3%\n",
      "  - Percentual de Masculino: 35.7%\n",
      "\n",
      "Média das Idades por Estado e Sexo:\n",
      "\n",
      "Sul: PR x SC\n",
      "----------------------------------------\n",
      "  PR:\n",
      "    - Média Idade Feminino: 30\n",
      "  PR:\n",
      "    - Média Idade Masculino: 27\n",
      "  SC:\n",
      "    - Média Idade Feminino: 30\n",
      "  SC:\n",
      "    - Média Idade Masculino: 28\n",
      "\n",
      "Norte: PA x TO\n",
      "----------------------------------------\n",
      "  PA:\n",
      "    - Média Idade Feminino: 30\n",
      "  PA:\n",
      "    - Média Idade Masculino: 27\n",
      "  TO:\n",
      "    - Média Idade Feminino: 32\n",
      "  TO:\n",
      "    - Média Idade Masculino: 29\n",
      "\n",
      "Sudeste: SP x ES\n",
      "----------------------------------------\n",
      "  SP:\n",
      "    - Média Idade Feminino: 30\n",
      "  SP:\n",
      "    - Média Idade Masculino: 26\n",
      "  ES:\n",
      "    - Média Idade Feminino: 33\n",
      "  ES:\n",
      "    - Média Idade Masculino: 31\n",
      "\n",
      "Centro-Oeste: GO x MS\n",
      "----------------------------------------\n",
      "  GO:\n",
      "    - Média Idade Feminino: 31\n",
      "  GO:\n",
      "    - Média Idade Masculino: 27\n",
      "  MS:\n",
      "    - Média Idade Feminino: 30\n",
      "  MS:\n",
      "    - Média Idade Masculino: 27\n",
      "\n",
      "Nordeste: BA x SE\n",
      "----------------------------------------\n",
      "  BA:\n",
      "    - Média Idade Feminino: 28\n",
      "  BA:\n",
      "    - Média Idade Masculino: 23\n",
      "  SE:\n",
      "    - Média Idade Feminino: 28\n",
      "  SE:\n",
      "    - Média Idade Masculino: 24\n"
     ]
    }
   ],
   "source": [
    "# Verificar se o dataset filtrado não está vazio\n",
    "if dataset_filtrado.empty:\n",
    "    print(\"\\nNenhum dado encontrado para os estados selecionados.\")\n",
    "else:\n",
    "    # Recalcular o total de registros\n",
    "    total_registros = len(dataset_filtrado)\n",
    "\n",
    "    # Log para verificar total de registros e registros inválidos\n",
    "    print(f\"\\nTotal de registros filtrados: {total_registros}\")\n",
    "    print(f\"Número de registros sem idade: {registros_sem_idade}\")\n",
    "    print(f\"Número de registros inválidos na coluna 'sexo': {registros_invalidos_sexo}\")\n",
    "\n",
    "    # Calcular a taxa de dados inválidos na coluna 'sexo'\n",
    "    taxa_invalidez = (registros_invalidos_sexo / (total_registros + registros_invalidos_sexo) * 100) if (total_registros + registros_invalidos_sexo) > 0 else 0\n",
    "    print(f\"\\nTaxa de dados inválidos na coluna 'sexo': {taxa_invalidez:.2f}%\")\n",
    "\n",
    "    # Calcular a distribuição percentual de sexo por estado\n",
    "    print(\"\\nDistribuição por Sexo em cada Estado:\")\n",
    "    distribuicao_sexo_estado = dataset_filtrado.groupby(['estadoNotificacaoIBGE', 'sexo']).size().unstack(fill_value=0)\n",
    "    distribuicao_percentual = distribuicao_sexo_estado.div(distribuicao_sexo_estado.sum(axis=1), axis=0) * 100\n",
    "\n",
    "    for estado in distribuicao_percentual.index:\n",
    "        print(f\"\\nEstado: {estado}\")\n",
    "        for sexo in ['Feminino', 'Masculino']:\n",
    "            if sexo in distribuicao_percentual.columns:\n",
    "                print(f\"  - Percentual de {sexo}: {distribuicao_percentual.loc[estado, sexo]:.1f}%\")\n",
    "            else:\n",
    "                print(f\"  - Percentual de {sexo}: Não disponível\")\n",
    "    \n",
    "    # Calcular a média das idades por estadoNotificacaoIBGE e sexo\n",
    "    media_idade = dataset_filtrado.groupby(['estadoNotificacaoIBGE', 'sexo'])['idade'].mean().reset_index()\n",
    "\n",
    "    # Formatar e exibir os resultados das médias de idade\n",
    "    print(\"\\nMédia das Idades por Estado e Sexo:\")\n",
    "\n",
    "    # Definir estados mais e menos populosos\n",
    "    estados_populosos = {\n",
    "        'Sul': {'Mais Populoso': 'PR', 'Menos Populoso': 'SC'},\n",
    "        'Norte': {'Mais Populoso': 'PA', 'Menos Populoso': 'TO'},\n",
    "        'Sudeste': {'Mais Populoso': 'SP', 'Menos Populoso': 'ES'},\n",
    "        'Centro-Oeste': {'Mais Populoso': 'GO', 'Menos Populoso': 'MS'},\n",
    "        'Nordeste': {'Mais Populoso': 'BA', 'Menos Populoso': 'SE'}\n",
    "    }\n",
    "\n",
    "    for regiao, estados in estados_populosos.items():\n",
    "        print(f\"\\n{regiao}: {estados['Mais Populoso']} x {estados['Menos Populoso']}\")\n",
    "        print(\"-\" * 40)  # Linha separadora\n",
    "        \n",
    "        for estado in [estados['Mais Populoso'], estados['Menos Populoso']]:\n",
    "            idade_estado = media_idade[media_idade['estadoNotificacaoIBGE'] == estado]\n",
    "            if not idade_estado.empty:\n",
    "                for sexo in ['Feminino', 'Masculino']:\n",
    "                    idade_sexo = idade_estado[idade_estado['sexo'] == sexo]['idade'].values\n",
    "                    print(f\"  {estado}:\")\n",
    "                    # Arredondar a média de idade para o inteiro mais próximo\n",
    "                    print(f\"    - Média Idade {sexo}: {round(idade_sexo[0])}\" if len(idade_sexo) > 0 else f\"    - Média Idade {sexo}: Não disponível\")\n",
    "            else:\n",
    "                print(f\"  {estado}: (sem dados)\")"
   ]
  },
  {
   "cell_type": "code",
   "execution_count": 19,
   "id": "e006ae98",
   "metadata": {},
   "outputs": [
    {
     "data": {
      "text/plain": [
       "<Figure size 1200x600 with 0 Axes>"
      ]
     },
     "execution_count": 19,
     "metadata": {},
     "output_type": "execute_result"
    },
    {
     "data": {
      "text/plain": [
       "<Figure size 1200x600 with 0 Axes>"
      ]
     },
     "metadata": {},
     "output_type": "display_data"
    }
   ],
   "source": [
    "# Visualizações gráficas\n",
    "plt.figure(figsize=(12, 6))"
   ]
  },
  {
   "cell_type": "code",
   "execution_count": 20,
   "id": "f07cade0",
   "metadata": {},
   "outputs": [
    {
     "data": {
      "text/plain": [
       "Text(0, 0.5, 'Frequência')"
      ]
     },
     "execution_count": 20,
     "metadata": {},
     "output_type": "execute_result"
    },
    {
     "data": {
      "image/png": "[encoded data removed]",
      "text/plain": [
       "<Figure size 640x480 with 1 Axes>"
      ]
     },
     "metadata": {},
     "output_type": "display_data"
    }
   ],
   "source": [
    "# Gráfico de Distribuição de Idade Geral\n",
    "plt.subplot(1, 2, 1)\n",
    "sns.histplot(dataset_filtrado['idade'], bins=30, kde=True, color='blue', alpha=0.7)\n",
    "plt.title('Distribuição de Idade')\n",
    "plt.xlabel('Idade')\n",
    "plt.ylabel('Frequência')"
   ]
  },
  {
   "cell_type": "code",
   "execution_count": 23,
   "id": "e2f03bdf",
   "metadata": {},
   "outputs": [
    {
     "data": {
      "image/png": "[encoded data removed]",
      "text/plain": [
       "<Figure size 1200x600 with 1 Axes>"
      ]
     },
     "metadata": {},
     "output_type": "display_data"
    }
   ],
   "source": [
    "# Gráfico de Distribuição de Sexo por Estado\n",
    "distribuicao_sexo_estado.plot(kind='bar', stacked=True, figsize=(12, 6), color=['lightblue', 'lightgreen'])\n",
    "plt.title('Distribuição de Sexo por Estado')\n",
    "plt.xlabel('Estado')\n",
    "plt.ylabel('Frequência')\n",
    "plt.xticks(rotation=45)\n",
    "plt.legend(title='Sexo')\n",
    "plt.tight_layout()"
   ]
  },
  {
   "cell_type": "code",
   "execution_count": 22,
   "id": "29eb001d",
   "metadata": {},
   "outputs": [],
   "source": [
    "# Exibir os gráficos\n",
    "plt.show()"
   ]
  }
 ],
 "metadata": {
  "jupytext": {
   "cell_metadata_filter": "-all",
   "main_language": "python",
   "notebook_metadata_filter": "-all"
  },
  "kernelspec": {
   "display_name": "Python 3",
   "language": "python",
   "name": "python3"
  },
  "language_info": {
   "codemirror_mode": {
    "name": "ipython",
    "version": 3
   },
   "file_extension": ".py",
   "mimetype": "text/x-python",
   "name": "python",
   "nbconvert_exporter": "python",
   "pygments_lexer": "ipython3",
   "version": "3.12.5"
  }
 },
 "nbformat": 4,
 "nbformat_minor": 5
}
